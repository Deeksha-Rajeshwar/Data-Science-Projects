{
 "cells": [
  {
   "cell_type": "code",
   "execution_count": 1,
   "id": "6e92a566",
   "metadata": {},
   "outputs": [],
   "source": [
    "import numpy as np\n",
    "import pandas as pd\n",
    "import seaborn as sb\n",
    "import matplotlib.pyplot as plt"
   ]
  },
  {
   "cell_type": "code",
   "execution_count": 17,
   "id": "7006edcf",
   "metadata": {},
   "outputs": [
    {
     "data": {
      "text/html": [
       "<div>\n",
       "<style scoped>\n",
       "    .dataframe tbody tr th:only-of-type {\n",
       "        vertical-align: middle;\n",
       "    }\n",
       "\n",
       "    .dataframe tbody tr th {\n",
       "        vertical-align: top;\n",
       "    }\n",
       "\n",
       "    .dataframe thead th {\n",
       "        text-align: right;\n",
       "    }\n",
       "</style>\n",
       "<table border=\"1\" class=\"dataframe\">\n",
       "  <thead>\n",
       "    <tr style=\"text-align: right;\">\n",
       "      <th></th>\n",
       "      <th>Age</th>\n",
       "      <th>Gender</th>\n",
       "      <th>spotify_usage_period</th>\n",
       "      <th>spotify_listening_device</th>\n",
       "      <th>spotify_subscription_plan</th>\n",
       "      <th>premium_sub_willingness</th>\n",
       "      <th>preffered_premium_plan</th>\n",
       "      <th>preferred_listening_content</th>\n",
       "      <th>fav_music_genre</th>\n",
       "      <th>music_time_slot</th>\n",
       "      <th>music_Influencial_mood</th>\n",
       "      <th>music_lis_frequency</th>\n",
       "      <th>music_expl_method</th>\n",
       "      <th>music_recc_rating</th>\n",
       "      <th>pod_lis_frequency</th>\n",
       "      <th>fav_pod_genre</th>\n",
       "      <th>preffered_pod_format</th>\n",
       "      <th>pod_host_preference</th>\n",
       "      <th>preffered_pod_duration</th>\n",
       "      <th>pod_variety_satisfaction</th>\n",
       "    </tr>\n",
       "  </thead>\n",
       "  <tbody>\n",
       "    <tr>\n",
       "      <th>0</th>\n",
       "      <td>20-35</td>\n",
       "      <td>Female</td>\n",
       "      <td>More than 2 years</td>\n",
       "      <td>Smart speakers or voice assistants</td>\n",
       "      <td>Free (ad-supported)</td>\n",
       "      <td>Yes</td>\n",
       "      <td>Family Plan-Rs 179/month</td>\n",
       "      <td>Podcast</td>\n",
       "      <td>Melody</td>\n",
       "      <td>Night</td>\n",
       "      <td>Sadness or melancholy</td>\n",
       "      <td>leisure time</td>\n",
       "      <td>Playlists</td>\n",
       "      <td>3</td>\n",
       "      <td>Daily</td>\n",
       "      <td>Comedy</td>\n",
       "      <td>Interview</td>\n",
       "      <td>Both</td>\n",
       "      <td>Both</td>\n",
       "      <td>Ok</td>\n",
       "    </tr>\n",
       "    <tr>\n",
       "      <th>1</th>\n",
       "      <td>12-20</td>\n",
       "      <td>Male</td>\n",
       "      <td>More than 2 years</td>\n",
       "      <td>Computer or laptop</td>\n",
       "      <td>Free (ad-supported)</td>\n",
       "      <td>Yes</td>\n",
       "      <td>Individual Plan- Rs 119/ month</td>\n",
       "      <td>Podcast</td>\n",
       "      <td>Rap</td>\n",
       "      <td>Afternoon</td>\n",
       "      <td>Social gatherings or parties</td>\n",
       "      <td>Workout session</td>\n",
       "      <td>Playlists</td>\n",
       "      <td>2</td>\n",
       "      <td>Several times a week</td>\n",
       "      <td>Comedy</td>\n",
       "      <td>Interview</td>\n",
       "      <td>Both</td>\n",
       "      <td>None</td>\n",
       "      <td>Satisfied</td>\n",
       "    </tr>\n",
       "    <tr>\n",
       "      <th>2</th>\n",
       "      <td>35-60</td>\n",
       "      <td>Others</td>\n",
       "      <td>6 months to 1 year</td>\n",
       "      <td>Smart speakers or voice assistants</td>\n",
       "      <td>Free (ad-supported)</td>\n",
       "      <td>Yes</td>\n",
       "      <td>Student Plan-Rs 59/month</td>\n",
       "      <td>Podcast</td>\n",
       "      <td>Pop</td>\n",
       "      <td>Night</td>\n",
       "      <td>Relaxation and stress relief</td>\n",
       "      <td>Study Hours, While Traveling</td>\n",
       "      <td>Playlists</td>\n",
       "      <td>4</td>\n",
       "      <td>Once a week</td>\n",
       "      <td>Sports</td>\n",
       "      <td>Interview</td>\n",
       "      <td>None</td>\n",
       "      <td>Both</td>\n",
       "      <td>Satisfied</td>\n",
       "    </tr>\n",
       "    <tr>\n",
       "      <th>3</th>\n",
       "      <td>20-35</td>\n",
       "      <td>Female</td>\n",
       "      <td>1 year to 2 years</td>\n",
       "      <td>Smartphone, Smart speakers or voice assistants</td>\n",
       "      <td>Free (ad-supported)</td>\n",
       "      <td>No</td>\n",
       "      <td>None</td>\n",
       "      <td>Music</td>\n",
       "      <td>Melody</td>\n",
       "      <td>Night</td>\n",
       "      <td>Relaxation and stress relief, Social gathering...</td>\n",
       "      <td>Office hours, Workout session, leisure time</td>\n",
       "      <td>recommendations, Playlists</td>\n",
       "      <td>4</td>\n",
       "      <td>Never</td>\n",
       "      <td>None</td>\n",
       "      <td>None</td>\n",
       "      <td>None</td>\n",
       "      <td>None</td>\n",
       "      <td>Ok</td>\n",
       "    </tr>\n",
       "    <tr>\n",
       "      <th>4</th>\n",
       "      <td>20-35</td>\n",
       "      <td>Female</td>\n",
       "      <td>1 year to 2 years</td>\n",
       "      <td>Smartphone</td>\n",
       "      <td>Free (ad-supported)</td>\n",
       "      <td>No</td>\n",
       "      <td>None</td>\n",
       "      <td>Music</td>\n",
       "      <td>Melody</td>\n",
       "      <td>Night</td>\n",
       "      <td>Relaxation and stress relief</td>\n",
       "      <td>leisure time</td>\n",
       "      <td>recommendations, Playlists</td>\n",
       "      <td>4</td>\n",
       "      <td>Rarely</td>\n",
       "      <td>Lifestyle and Health</td>\n",
       "      <td>Story telling</td>\n",
       "      <td>Well known individuals</td>\n",
       "      <td>Both</td>\n",
       "      <td>Ok</td>\n",
       "    </tr>\n",
       "    <tr>\n",
       "      <th>...</th>\n",
       "      <td>...</td>\n",
       "      <td>...</td>\n",
       "      <td>...</td>\n",
       "      <td>...</td>\n",
       "      <td>...</td>\n",
       "      <td>...</td>\n",
       "      <td>...</td>\n",
       "      <td>...</td>\n",
       "      <td>...</td>\n",
       "      <td>...</td>\n",
       "      <td>...</td>\n",
       "      <td>...</td>\n",
       "      <td>...</td>\n",
       "      <td>...</td>\n",
       "      <td>...</td>\n",
       "      <td>...</td>\n",
       "      <td>...</td>\n",
       "      <td>...</td>\n",
       "      <td>...</td>\n",
       "      <td>...</td>\n",
       "    </tr>\n",
       "    <tr>\n",
       "      <th>515</th>\n",
       "      <td>20-35</td>\n",
       "      <td>Female</td>\n",
       "      <td>More than 2 years</td>\n",
       "      <td>Smartphone, Computer or laptop, Wearable devices</td>\n",
       "      <td>Free (ad-supported)</td>\n",
       "      <td>Yes</td>\n",
       "      <td>Student Plan-Rs 59/month</td>\n",
       "      <td>Music</td>\n",
       "      <td>Pop</td>\n",
       "      <td>Morning</td>\n",
       "      <td>Uplifting and motivational, Sadness or melancholy</td>\n",
       "      <td>While Traveling</td>\n",
       "      <td>recommendations</td>\n",
       "      <td>5</td>\n",
       "      <td>Rarely</td>\n",
       "      <td>Lifestyle and Health</td>\n",
       "      <td>Conversational</td>\n",
       "      <td>Both</td>\n",
       "      <td>Shorter</td>\n",
       "      <td>Ok</td>\n",
       "    </tr>\n",
       "    <tr>\n",
       "      <th>516</th>\n",
       "      <td>20-35</td>\n",
       "      <td>Female</td>\n",
       "      <td>More than 2 years</td>\n",
       "      <td>Smartphone, Computer or laptop</td>\n",
       "      <td>Free (ad-supported)</td>\n",
       "      <td>Yes</td>\n",
       "      <td>Student Plan-Rs 59/month</td>\n",
       "      <td>Music</td>\n",
       "      <td>Pop</td>\n",
       "      <td>Night</td>\n",
       "      <td>Relaxation and stress relief, Uplifting and mo...</td>\n",
       "      <td>While Traveling, Workout session, leisure time</td>\n",
       "      <td>Others</td>\n",
       "      <td>2</td>\n",
       "      <td>Rarely</td>\n",
       "      <td>Comedy</td>\n",
       "      <td>Story telling</td>\n",
       "      <td>Both</td>\n",
       "      <td>Shorter</td>\n",
       "      <td>Ok</td>\n",
       "    </tr>\n",
       "    <tr>\n",
       "      <th>517</th>\n",
       "      <td>20-35</td>\n",
       "      <td>Female</td>\n",
       "      <td>More than 2 years</td>\n",
       "      <td>Smartphone</td>\n",
       "      <td>Free (ad-supported)</td>\n",
       "      <td>No</td>\n",
       "      <td>Student Plan-Rs 59/month</td>\n",
       "      <td>Music</td>\n",
       "      <td>Pop</td>\n",
       "      <td>Night</td>\n",
       "      <td>Relaxation and stress relief</td>\n",
       "      <td>leisure time</td>\n",
       "      <td>recommendations</td>\n",
       "      <td>3</td>\n",
       "      <td>Never</td>\n",
       "      <td>None</td>\n",
       "      <td>Story telling</td>\n",
       "      <td>Both</td>\n",
       "      <td>Shorter</td>\n",
       "      <td>Ok</td>\n",
       "    </tr>\n",
       "    <tr>\n",
       "      <th>518</th>\n",
       "      <td>20-35</td>\n",
       "      <td>Female</td>\n",
       "      <td>6 months to 1 year</td>\n",
       "      <td>Smartphone</td>\n",
       "      <td>Premium (paid subscription)</td>\n",
       "      <td>Yes</td>\n",
       "      <td>Individual Plan- Rs 119/ month</td>\n",
       "      <td>Music</td>\n",
       "      <td>Melody</td>\n",
       "      <td>Night</td>\n",
       "      <td>Relaxation and stress relief, Uplifting and mo...</td>\n",
       "      <td>Workout session, leisure time</td>\n",
       "      <td>recommendations, Others</td>\n",
       "      <td>2</td>\n",
       "      <td>Several times a week</td>\n",
       "      <td>Comedy</td>\n",
       "      <td>Conversational</td>\n",
       "      <td>Both</td>\n",
       "      <td>Longer</td>\n",
       "      <td>Satisfied</td>\n",
       "    </tr>\n",
       "    <tr>\n",
       "      <th>519</th>\n",
       "      <td>20-35</td>\n",
       "      <td>Female</td>\n",
       "      <td>More than 2 years</td>\n",
       "      <td>Smartphone, Computer or laptop</td>\n",
       "      <td>Premium (paid subscription)</td>\n",
       "      <td>Yes</td>\n",
       "      <td>Student Plan-Rs 59/month</td>\n",
       "      <td>Music</td>\n",
       "      <td>Pop</td>\n",
       "      <td>Night</td>\n",
       "      <td>Relaxation and stress relief, Sadness or melan...</td>\n",
       "      <td>Office hours,Study Hours, While Traveling, lei...</td>\n",
       "      <td>Playlists, Radio</td>\n",
       "      <td>3</td>\n",
       "      <td>Never</td>\n",
       "      <td>None</td>\n",
       "      <td>None</td>\n",
       "      <td>None</td>\n",
       "      <td>None</td>\n",
       "      <td>Ok</td>\n",
       "    </tr>\n",
       "  </tbody>\n",
       "</table>\n",
       "<p>520 rows × 20 columns</p>\n",
       "</div>"
      ],
      "text/plain": [
       "       Age  Gender spotify_usage_period  \\\n",
       "0    20-35  Female    More than 2 years   \n",
       "1    12-20    Male    More than 2 years   \n",
       "2    35-60  Others   6 months to 1 year   \n",
       "3    20-35  Female    1 year to 2 years   \n",
       "4    20-35  Female    1 year to 2 years   \n",
       "..     ...     ...                  ...   \n",
       "515  20-35  Female    More than 2 years   \n",
       "516  20-35  Female    More than 2 years   \n",
       "517  20-35  Female    More than 2 years   \n",
       "518  20-35  Female   6 months to 1 year   \n",
       "519  20-35  Female    More than 2 years   \n",
       "\n",
       "                             spotify_listening_device  \\\n",
       "0                  Smart speakers or voice assistants   \n",
       "1                                  Computer or laptop   \n",
       "2                  Smart speakers or voice assistants   \n",
       "3      Smartphone, Smart speakers or voice assistants   \n",
       "4                                          Smartphone   \n",
       "..                                                ...   \n",
       "515  Smartphone, Computer or laptop, Wearable devices   \n",
       "516                    Smartphone, Computer or laptop   \n",
       "517                                        Smartphone   \n",
       "518                                        Smartphone   \n",
       "519                    Smartphone, Computer or laptop   \n",
       "\n",
       "       spotify_subscription_plan premium_sub_willingness  \\\n",
       "0            Free (ad-supported)                     Yes   \n",
       "1            Free (ad-supported)                     Yes   \n",
       "2            Free (ad-supported)                     Yes   \n",
       "3            Free (ad-supported)                      No   \n",
       "4            Free (ad-supported)                      No   \n",
       "..                           ...                     ...   \n",
       "515          Free (ad-supported)                     Yes   \n",
       "516          Free (ad-supported)                     Yes   \n",
       "517          Free (ad-supported)                      No   \n",
       "518  Premium (paid subscription)                     Yes   \n",
       "519  Premium (paid subscription)                     Yes   \n",
       "\n",
       "             preffered_premium_plan preferred_listening_content  \\\n",
       "0          Family Plan-Rs 179/month                     Podcast   \n",
       "1    Individual Plan- Rs 119/ month                     Podcast   \n",
       "2          Student Plan-Rs 59/month                     Podcast   \n",
       "3                              None                       Music   \n",
       "4                              None                       Music   \n",
       "..                              ...                         ...   \n",
       "515        Student Plan-Rs 59/month                       Music   \n",
       "516        Student Plan-Rs 59/month                       Music   \n",
       "517        Student Plan-Rs 59/month                       Music   \n",
       "518  Individual Plan- Rs 119/ month                       Music   \n",
       "519        Student Plan-Rs 59/month                       Music   \n",
       "\n",
       "    fav_music_genre music_time_slot  \\\n",
       "0            Melody           Night   \n",
       "1               Rap       Afternoon   \n",
       "2               Pop           Night   \n",
       "3            Melody           Night   \n",
       "4            Melody           Night   \n",
       "..              ...             ...   \n",
       "515             Pop         Morning   \n",
       "516             Pop           Night   \n",
       "517             Pop           Night   \n",
       "518          Melody           Night   \n",
       "519             Pop           Night   \n",
       "\n",
       "                                music_Influencial_mood  \\\n",
       "0                                Sadness or melancholy   \n",
       "1                         Social gatherings or parties   \n",
       "2                         Relaxation and stress relief   \n",
       "3    Relaxation and stress relief, Social gathering...   \n",
       "4                         Relaxation and stress relief   \n",
       "..                                                 ...   \n",
       "515  Uplifting and motivational, Sadness or melancholy   \n",
       "516  Relaxation and stress relief, Uplifting and mo...   \n",
       "517                       Relaxation and stress relief   \n",
       "518  Relaxation and stress relief, Uplifting and mo...   \n",
       "519  Relaxation and stress relief, Sadness or melan...   \n",
       "\n",
       "                                   music_lis_frequency  \\\n",
       "0                                         leisure time   \n",
       "1                                      Workout session   \n",
       "2                         Study Hours, While Traveling   \n",
       "3          Office hours, Workout session, leisure time   \n",
       "4                                         leisure time   \n",
       "..                                                 ...   \n",
       "515                                    While Traveling   \n",
       "516     While Traveling, Workout session, leisure time   \n",
       "517                                       leisure time   \n",
       "518                      Workout session, leisure time   \n",
       "519  Office hours,Study Hours, While Traveling, lei...   \n",
       "\n",
       "              music_expl_method  music_recc_rating     pod_lis_frequency  \\\n",
       "0                     Playlists                  3                 Daily   \n",
       "1                     Playlists                  2  Several times a week   \n",
       "2                     Playlists                  4           Once a week   \n",
       "3    recommendations, Playlists                  4                 Never   \n",
       "4    recommendations, Playlists                  4                Rarely   \n",
       "..                          ...                ...                   ...   \n",
       "515             recommendations                  5                Rarely   \n",
       "516                      Others                  2                Rarely   \n",
       "517             recommendations                  3                 Never   \n",
       "518     recommendations, Others                  2  Several times a week   \n",
       "519            Playlists, Radio                  3                 Never   \n",
       "\n",
       "            fav_pod_genre preffered_pod_format     pod_host_preference  \\\n",
       "0                  Comedy            Interview                    Both   \n",
       "1                  Comedy            Interview                    Both   \n",
       "2                  Sports            Interview                    None   \n",
       "3                    None                 None                    None   \n",
       "4    Lifestyle and Health        Story telling  Well known individuals   \n",
       "..                    ...                  ...                     ...   \n",
       "515  Lifestyle and Health       Conversational                    Both   \n",
       "516                Comedy        Story telling                    Both   \n",
       "517                  None        Story telling                    Both   \n",
       "518                Comedy       Conversational                    Both   \n",
       "519                  None                 None                    None   \n",
       "\n",
       "    preffered_pod_duration pod_variety_satisfaction  \n",
       "0                     Both                       Ok  \n",
       "1                     None                Satisfied  \n",
       "2                     Both                Satisfied  \n",
       "3                     None                       Ok  \n",
       "4                     Both                       Ok  \n",
       "..                     ...                      ...  \n",
       "515                Shorter                       Ok  \n",
       "516                Shorter                       Ok  \n",
       "517                Shorter                       Ok  \n",
       "518                 Longer                Satisfied  \n",
       "519                   None                       Ok  \n",
       "\n",
       "[520 rows x 20 columns]"
      ]
     },
     "execution_count": 17,
     "metadata": {},
     "output_type": "execute_result"
    }
   ],
   "source": [
    "df=pd.read_excel('Spotify_data.xlsx')\n",
    "df\n"
   ]
  },
  {
   "cell_type": "code",
   "execution_count": 19,
   "id": "d8ab3e77",
   "metadata": {},
   "outputs": [
    {
     "name": "stdout",
     "output_type": "stream",
     "text": [
      "<class 'pandas.core.frame.DataFrame'>\n",
      "RangeIndex: 520 entries, 0 to 519\n",
      "Data columns (total 20 columns):\n",
      " #   Column                       Non-Null Count  Dtype \n",
      "---  ------                       --------------  ----- \n",
      " 0   Age                          520 non-null    object\n",
      " 1   Gender                       520 non-null    object\n",
      " 2   spotify_usage_period         520 non-null    object\n",
      " 3   spotify_listening_device     520 non-null    object\n",
      " 4   spotify_subscription_plan    520 non-null    object\n",
      " 5   premium_sub_willingness      520 non-null    object\n",
      " 6   preffered_premium_plan       520 non-null    object\n",
      " 7   preferred_listening_content  520 non-null    object\n",
      " 8   fav_music_genre              520 non-null    object\n",
      " 9   music_time_slot              520 non-null    object\n",
      " 10  music_Influencial_mood       520 non-null    object\n",
      " 11  music_lis_frequency          520 non-null    object\n",
      " 12  music_expl_method            520 non-null    object\n",
      " 13  music_recc_rating            520 non-null    int64 \n",
      " 14  pod_lis_frequency            520 non-null    object\n",
      " 15  fav_pod_genre                520 non-null    object\n",
      " 16  preffered_pod_format         520 non-null    object\n",
      " 17  pod_host_preference          520 non-null    object\n",
      " 18  preffered_pod_duration       520 non-null    object\n",
      " 19  pod_variety_satisfaction     520 non-null    object\n",
      "dtypes: int64(1), object(19)\n",
      "memory usage: 81.4+ KB\n"
     ]
    }
   ],
   "source": [
    "df.info()"
   ]
  },
  {
   "cell_type": "code",
   "execution_count": 18,
   "id": "ef9fee21",
   "metadata": {},
   "outputs": [
    {
     "data": {
      "text/plain": [
       "Age                            0\n",
       "Gender                         0\n",
       "spotify_usage_period           0\n",
       "spotify_listening_device       0\n",
       "spotify_subscription_plan      0\n",
       "premium_sub_willingness        0\n",
       "preffered_premium_plan         0\n",
       "preferred_listening_content    0\n",
       "fav_music_genre                0\n",
       "music_time_slot                0\n",
       "music_Influencial_mood         0\n",
       "music_lis_frequency            0\n",
       "music_expl_method              0\n",
       "music_recc_rating              0\n",
       "pod_lis_frequency              0\n",
       "fav_pod_genre                  0\n",
       "preffered_pod_format           0\n",
       "pod_host_preference            0\n",
       "preffered_pod_duration         0\n",
       "pod_variety_satisfaction       0\n",
       "dtype: int64"
      ]
     },
     "execution_count": 18,
     "metadata": {},
     "output_type": "execute_result"
    }
   ],
   "source": [
    "df.isnull().sum()"
   ]
  },
  {
   "cell_type": "code",
   "execution_count": 20,
   "id": "e1337d11",
   "metadata": {},
   "outputs": [
    {
     "data": {
      "text/html": [
       "<div>\n",
       "<style scoped>\n",
       "    .dataframe tbody tr th:only-of-type {\n",
       "        vertical-align: middle;\n",
       "    }\n",
       "\n",
       "    .dataframe tbody tr th {\n",
       "        vertical-align: top;\n",
       "    }\n",
       "\n",
       "    .dataframe thead th {\n",
       "        text-align: right;\n",
       "    }\n",
       "</style>\n",
       "<table border=\"1\" class=\"dataframe\">\n",
       "  <thead>\n",
       "    <tr style=\"text-align: right;\">\n",
       "      <th></th>\n",
       "      <th>music_recc_rating</th>\n",
       "    </tr>\n",
       "  </thead>\n",
       "  <tbody>\n",
       "    <tr>\n",
       "      <th>count</th>\n",
       "      <td>520.000000</td>\n",
       "    </tr>\n",
       "    <tr>\n",
       "      <th>mean</th>\n",
       "      <td>3.503846</td>\n",
       "    </tr>\n",
       "    <tr>\n",
       "      <th>std</th>\n",
       "      <td>0.979552</td>\n",
       "    </tr>\n",
       "    <tr>\n",
       "      <th>min</th>\n",
       "      <td>1.000000</td>\n",
       "    </tr>\n",
       "    <tr>\n",
       "      <th>25%</th>\n",
       "      <td>3.000000</td>\n",
       "    </tr>\n",
       "    <tr>\n",
       "      <th>50%</th>\n",
       "      <td>3.500000</td>\n",
       "    </tr>\n",
       "    <tr>\n",
       "      <th>75%</th>\n",
       "      <td>4.000000</td>\n",
       "    </tr>\n",
       "    <tr>\n",
       "      <th>max</th>\n",
       "      <td>5.000000</td>\n",
       "    </tr>\n",
       "  </tbody>\n",
       "</table>\n",
       "</div>"
      ],
      "text/plain": [
       "       music_recc_rating\n",
       "count         520.000000\n",
       "mean            3.503846\n",
       "std             0.979552\n",
       "min             1.000000\n",
       "25%             3.000000\n",
       "50%             3.500000\n",
       "75%             4.000000\n",
       "max             5.000000"
      ]
     },
     "execution_count": 20,
     "metadata": {},
     "output_type": "execute_result"
    }
   ],
   "source": [
    "df.describe()"
   ]
  },
  {
   "cell_type": "code",
   "execution_count": 81,
   "id": "1c8097ee",
   "metadata": {},
   "outputs": [
    {
     "data": {
      "text/plain": [
       "20-35    422\n",
       "12-20     71\n",
       "35-60     23\n",
       "6-12       3\n",
       "60+        1\n",
       "Name: Age, dtype: int64"
      ]
     },
     "execution_count": 81,
     "metadata": {},
     "output_type": "execute_result"
    }
   ],
   "source": [
    "age_count=df['Age'].value_counts()\n",
    "age_count\n",
    "## people between the age of 20-35 are most users on spotify"
   ]
  },
  {
   "cell_type": "code",
   "execution_count": 83,
   "id": "5a794366",
   "metadata": {},
   "outputs": [
    {
     "data": {
      "text/plain": [
       "1"
      ]
     },
     "execution_count": 83,
     "metadata": {},
     "output_type": "execute_result"
    }
   ],
   "source": [
    "df.duplicated().sum()"
   ]
  },
  {
   "cell_type": "code",
   "execution_count": 86,
   "id": "43fbef6c",
   "metadata": {},
   "outputs": [],
   "source": [
    "df.drop_duplicates(inplace=True)"
   ]
  },
  {
   "cell_type": "code",
   "execution_count": 82,
   "id": "b0ef58cd",
   "metadata": {},
   "outputs": [
    {
     "data": {
      "image/png": "[encoded data removed]",
      "text/plain": [
       "<Figure size 640x480 with 1 Axes>"
      ]
     },
     "metadata": {},
     "output_type": "display_data"
    }
   ],
   "source": [
    "age_count.plot(kind='bar')\n",
    "plt.xticks(rotation=360)\n",
    "plt.title('Age')\n",
    "plt.show()"
   ]
  },
  {
   "cell_type": "code",
   "execution_count": 91,
   "id": "ae8a3633",
   "metadata": {},
   "outputs": [
    {
     "data": {
      "text/plain": [
       "Free (ad-supported)            423\n",
       "Premium (paid subscription)     96\n",
       "Name: spotify_subscription_plan, dtype: int64"
      ]
     },
     "execution_count": 91,
     "metadata": {},
     "output_type": "execute_result"
    }
   ],
   "source": [
    "subscription_count=df['spotify_subscription_plan'].value_counts()\n",
    "subscription_count\n",
    "# Most people around 81% use free version with ads and does not use premium account subscription"
   ]
  },
  {
   "cell_type": "code",
   "execution_count": 104,
   "id": "ab002afb",
   "metadata": {},
   "outputs": [
    {
     "data": {
      "image/png": "[encoded data removed]",
      "text/plain": [
       "<Figure size 640x480 with 1 Axes>"
      ]
     },
     "metadata": {},
     "output_type": "display_data"
    }
   ],
   "source": [
    "plt.pie(subscription_count,labels=subscription_count.index, autopct = '%1.1f%%')\n",
    "plt.show()"
   ]
  },
  {
   "cell_type": "code",
   "execution_count": 106,
   "id": "9c9fced3",
   "metadata": {},
   "outputs": [
    {
     "data": {
      "text/plain": [
       "None                              207\n",
       "Individual Plan- Rs 119/ month     95\n",
       "Student Plan-Rs 59/month           94\n",
       "Duo plan- Rs 149/month             84\n",
       "Family Plan-Rs 179/month           39\n",
       "Name: preffered_premium_plan, dtype: int64"
      ]
     },
     "execution_count": 106,
     "metadata": {},
     "output_type": "execute_result"
    }
   ],
   "source": [
    "df['preffered_premium_plan'].value_counts()"
   ]
  },
  {
   "cell_type": "code",
   "execution_count": 119,
   "id": "cf5e48f5",
   "metadata": {},
   "outputs": [
    {
     "data": {
      "image/png": "[encoded data removed]",
      "text/plain": [
       "<Figure size 640x480 with 1 Axes>"
      ]
     },
     "metadata": {},
     "output_type": "display_data"
    }
   ],
   "source": [
    "sb.countplot(data=df,x='preffered_premium_plan')\n",
    "plt.xticks(rotation=90)\n",
    "plt.show()\n",
    "# Most users don't want to express their plan but the next most used plan that is common is the Individual plan of Rs119/month."
   ]
  },
  {
   "cell_type": "code",
   "execution_count": 125,
   "id": "be2734f4",
   "metadata": {},
   "outputs": [
    {
     "data": {
      "text/html": [
       "<div>\n",
       "<style scoped>\n",
       "    .dataframe tbody tr th:only-of-type {\n",
       "        vertical-align: middle;\n",
       "    }\n",
       "\n",
       "    .dataframe tbody tr th {\n",
       "        vertical-align: top;\n",
       "    }\n",
       "\n",
       "    .dataframe thead th {\n",
       "        text-align: right;\n",
       "    }\n",
       "</style>\n",
       "<table border=\"1\" class=\"dataframe\">\n",
       "  <thead>\n",
       "    <tr style=\"text-align: right;\">\n",
       "      <th></th>\n",
       "      <th>Age</th>\n",
       "      <th>Gender</th>\n",
       "      <th>spotify_usage_period</th>\n",
       "      <th>spotify_listening_device</th>\n",
       "      <th>spotify_subscription_plan</th>\n",
       "      <th>premium_sub_willingness</th>\n",
       "      <th>preffered_premium_plan</th>\n",
       "      <th>preferred_listening_content</th>\n",
       "      <th>fav_music_genre</th>\n",
       "      <th>music_time_slot</th>\n",
       "      <th>music_Influencial_mood</th>\n",
       "      <th>music_lis_frequency</th>\n",
       "      <th>music_expl_method</th>\n",
       "      <th>music_recc_rating</th>\n",
       "      <th>pod_lis_frequency</th>\n",
       "      <th>fav_pod_genre</th>\n",
       "      <th>preffered_pod_format</th>\n",
       "      <th>pod_host_preference</th>\n",
       "      <th>preffered_pod_duration</th>\n",
       "      <th>pod_variety_satisfaction</th>\n",
       "    </tr>\n",
       "  </thead>\n",
       "  <tbody>\n",
       "    <tr>\n",
       "      <th>23</th>\n",
       "      <td>20-35</td>\n",
       "      <td>Female</td>\n",
       "      <td>More than 2 years</td>\n",
       "      <td>Smartphone, Computer or laptop, Smart speakers...</td>\n",
       "      <td>Premium (paid subscription)</td>\n",
       "      <td>Yes</td>\n",
       "      <td>Individual Plan- Rs 119/ month</td>\n",
       "      <td>Music</td>\n",
       "      <td>classical</td>\n",
       "      <td>Night</td>\n",
       "      <td>Relaxation and stress relief, Uplifting and mo...</td>\n",
       "      <td>While Traveling, Workout session, leisure time</td>\n",
       "      <td>recommendations, Playlists, Radio</td>\n",
       "      <td>1</td>\n",
       "      <td>Rarely</td>\n",
       "      <td>Comedy</td>\n",
       "      <td>Interview</td>\n",
       "      <td>Both</td>\n",
       "      <td>Shorter</td>\n",
       "      <td>Very Satisfied</td>\n",
       "    </tr>\n",
       "    <tr>\n",
       "      <th>24</th>\n",
       "      <td>20-35</td>\n",
       "      <td>Male</td>\n",
       "      <td>More than 2 years</td>\n",
       "      <td>Smartphone, Computer or laptop</td>\n",
       "      <td>Premium (paid subscription)</td>\n",
       "      <td>Yes</td>\n",
       "      <td>Family Plan-Rs 179/month</td>\n",
       "      <td>Music</td>\n",
       "      <td>Rock</td>\n",
       "      <td>Night</td>\n",
       "      <td>Relaxation and stress relief, Sadness or melan...</td>\n",
       "      <td>Study Hours</td>\n",
       "      <td>recommendations, Radio</td>\n",
       "      <td>3</td>\n",
       "      <td>Rarely</td>\n",
       "      <td>Lifestyle and Health</td>\n",
       "      <td>Conversational</td>\n",
       "      <td>Both</td>\n",
       "      <td>Both</td>\n",
       "      <td>Ok</td>\n",
       "    </tr>\n",
       "    <tr>\n",
       "      <th>26</th>\n",
       "      <td>12-20</td>\n",
       "      <td>Male</td>\n",
       "      <td>6 months to 1 year</td>\n",
       "      <td>Smartphone, Smart speakers or voice assistants</td>\n",
       "      <td>Premium (paid subscription)</td>\n",
       "      <td>Yes</td>\n",
       "      <td>Student Plan-Rs 59/month</td>\n",
       "      <td>Podcast</td>\n",
       "      <td>Rap</td>\n",
       "      <td>Morning</td>\n",
       "      <td>Relaxation and stress relief</td>\n",
       "      <td>Office hours, While Traveling, Workout session</td>\n",
       "      <td>recommendations</td>\n",
       "      <td>4</td>\n",
       "      <td>Several times a week</td>\n",
       "      <td>Lifestyle and Health</td>\n",
       "      <td>Story telling</td>\n",
       "      <td>Both</td>\n",
       "      <td>Longer</td>\n",
       "      <td>Satisfied</td>\n",
       "    </tr>\n",
       "    <tr>\n",
       "      <th>49</th>\n",
       "      <td>20-35</td>\n",
       "      <td>Male</td>\n",
       "      <td>1 year to 2 years</td>\n",
       "      <td>Smartphone, Computer or laptop, Smart speakers...</td>\n",
       "      <td>Premium (paid subscription)</td>\n",
       "      <td>Yes</td>\n",
       "      <td>Individual Plan- Rs 119/ month</td>\n",
       "      <td>Music</td>\n",
       "      <td>Electronic/Dance</td>\n",
       "      <td>Night</td>\n",
       "      <td>Relaxation and stress relief, Uplifting and mo...</td>\n",
       "      <td>While Traveling, Workout session, leisure time</td>\n",
       "      <td>recommendations</td>\n",
       "      <td>4</td>\n",
       "      <td>Rarely</td>\n",
       "      <td>Comedy</td>\n",
       "      <td>Story telling</td>\n",
       "      <td>unknown Podcasters</td>\n",
       "      <td>Shorter</td>\n",
       "      <td>Very Satisfied</td>\n",
       "    </tr>\n",
       "    <tr>\n",
       "      <th>59</th>\n",
       "      <td>20-35</td>\n",
       "      <td>Male</td>\n",
       "      <td>More than 2 years</td>\n",
       "      <td>Computer or laptop, Wearable devices</td>\n",
       "      <td>Premium (paid subscription)</td>\n",
       "      <td>Yes</td>\n",
       "      <td>Family Plan-Rs 179/month</td>\n",
       "      <td>Music</td>\n",
       "      <td>Pop</td>\n",
       "      <td>Night</td>\n",
       "      <td>Relaxation and stress relief, Uplifting and mo...</td>\n",
       "      <td>While Traveling, Workout session, leisure time</td>\n",
       "      <td>recommendations, Playlists</td>\n",
       "      <td>5</td>\n",
       "      <td>Never</td>\n",
       "      <td>None</td>\n",
       "      <td>None</td>\n",
       "      <td>None</td>\n",
       "      <td>None</td>\n",
       "      <td>Satisfied</td>\n",
       "    </tr>\n",
       "    <tr>\n",
       "      <th>...</th>\n",
       "      <td>...</td>\n",
       "      <td>...</td>\n",
       "      <td>...</td>\n",
       "      <td>...</td>\n",
       "      <td>...</td>\n",
       "      <td>...</td>\n",
       "      <td>...</td>\n",
       "      <td>...</td>\n",
       "      <td>...</td>\n",
       "      <td>...</td>\n",
       "      <td>...</td>\n",
       "      <td>...</td>\n",
       "      <td>...</td>\n",
       "      <td>...</td>\n",
       "      <td>...</td>\n",
       "      <td>...</td>\n",
       "      <td>...</td>\n",
       "      <td>...</td>\n",
       "      <td>...</td>\n",
       "      <td>...</td>\n",
       "    </tr>\n",
       "    <tr>\n",
       "      <th>506</th>\n",
       "      <td>20-35</td>\n",
       "      <td>Male</td>\n",
       "      <td>Less than 6 months</td>\n",
       "      <td>Smart speakers or voice assistants</td>\n",
       "      <td>Premium (paid subscription)</td>\n",
       "      <td>Yes</td>\n",
       "      <td>Duo plan- Rs 149/month</td>\n",
       "      <td>Music</td>\n",
       "      <td>classical</td>\n",
       "      <td>Morning</td>\n",
       "      <td>Uplifting and motivational</td>\n",
       "      <td>Workout session</td>\n",
       "      <td>Playlists</td>\n",
       "      <td>4</td>\n",
       "      <td>Rarely</td>\n",
       "      <td>Lifestyle and Health</td>\n",
       "      <td>Interview</td>\n",
       "      <td>unknown Podcasters</td>\n",
       "      <td>Both</td>\n",
       "      <td>Satisfied</td>\n",
       "    </tr>\n",
       "    <tr>\n",
       "      <th>508</th>\n",
       "      <td>12-20</td>\n",
       "      <td>Female</td>\n",
       "      <td>6 months to 1 year</td>\n",
       "      <td>Wearable devices</td>\n",
       "      <td>Premium (paid subscription)</td>\n",
       "      <td>Yes</td>\n",
       "      <td>Duo plan- Rs 149/month</td>\n",
       "      <td>Podcast</td>\n",
       "      <td>Rap</td>\n",
       "      <td>Morning</td>\n",
       "      <td>Relaxation and stress relief</td>\n",
       "      <td>While Traveling</td>\n",
       "      <td>Playlists</td>\n",
       "      <td>2</td>\n",
       "      <td>Rarely</td>\n",
       "      <td>Sports</td>\n",
       "      <td>None</td>\n",
       "      <td>Well known individuals</td>\n",
       "      <td>Both</td>\n",
       "      <td>Ok</td>\n",
       "    </tr>\n",
       "    <tr>\n",
       "      <th>510</th>\n",
       "      <td>20-35</td>\n",
       "      <td>Male</td>\n",
       "      <td>More than 2 years</td>\n",
       "      <td>Smartphone</td>\n",
       "      <td>Premium (paid subscription)</td>\n",
       "      <td>Yes</td>\n",
       "      <td>Individual Plan- Rs 119/ month</td>\n",
       "      <td>Music</td>\n",
       "      <td>Melody</td>\n",
       "      <td>Night</td>\n",
       "      <td>Relaxation and stress relief, Uplifting and mo...</td>\n",
       "      <td>Study Hours</td>\n",
       "      <td>recommendations, Playlists</td>\n",
       "      <td>5</td>\n",
       "      <td>Rarely</td>\n",
       "      <td>Comedy</td>\n",
       "      <td>Story telling</td>\n",
       "      <td>Both</td>\n",
       "      <td>Longer</td>\n",
       "      <td>Satisfied</td>\n",
       "    </tr>\n",
       "    <tr>\n",
       "      <th>518</th>\n",
       "      <td>20-35</td>\n",
       "      <td>Female</td>\n",
       "      <td>6 months to 1 year</td>\n",
       "      <td>Smartphone</td>\n",
       "      <td>Premium (paid subscription)</td>\n",
       "      <td>Yes</td>\n",
       "      <td>Individual Plan- Rs 119/ month</td>\n",
       "      <td>Music</td>\n",
       "      <td>Melody</td>\n",
       "      <td>Night</td>\n",
       "      <td>Relaxation and stress relief, Uplifting and mo...</td>\n",
       "      <td>Workout session, leisure time</td>\n",
       "      <td>recommendations, Others</td>\n",
       "      <td>2</td>\n",
       "      <td>Several times a week</td>\n",
       "      <td>Comedy</td>\n",
       "      <td>Conversational</td>\n",
       "      <td>Both</td>\n",
       "      <td>Longer</td>\n",
       "      <td>Satisfied</td>\n",
       "    </tr>\n",
       "    <tr>\n",
       "      <th>519</th>\n",
       "      <td>20-35</td>\n",
       "      <td>Female</td>\n",
       "      <td>More than 2 years</td>\n",
       "      <td>Smartphone, Computer or laptop</td>\n",
       "      <td>Premium (paid subscription)</td>\n",
       "      <td>Yes</td>\n",
       "      <td>Student Plan-Rs 59/month</td>\n",
       "      <td>Music</td>\n",
       "      <td>Pop</td>\n",
       "      <td>Night</td>\n",
       "      <td>Relaxation and stress relief, Sadness or melan...</td>\n",
       "      <td>Office hours,Study Hours, While Traveling, lei...</td>\n",
       "      <td>Playlists, Radio</td>\n",
       "      <td>3</td>\n",
       "      <td>Never</td>\n",
       "      <td>None</td>\n",
       "      <td>None</td>\n",
       "      <td>None</td>\n",
       "      <td>None</td>\n",
       "      <td>Ok</td>\n",
       "    </tr>\n",
       "  </tbody>\n",
       "</table>\n",
       "<p>72 rows × 20 columns</p>\n",
       "</div>"
      ],
      "text/plain": [
       "       Age  Gender spotify_usage_period  \\\n",
       "23   20-35  Female    More than 2 years   \n",
       "24   20-35    Male    More than 2 years   \n",
       "26   12-20    Male   6 months to 1 year   \n",
       "49   20-35    Male    1 year to 2 years   \n",
       "59   20-35    Male    More than 2 years   \n",
       "..     ...     ...                  ...   \n",
       "506  20-35    Male   Less than 6 months   \n",
       "508  12-20  Female   6 months to 1 year   \n",
       "510  20-35    Male    More than 2 years   \n",
       "518  20-35  Female   6 months to 1 year   \n",
       "519  20-35  Female    More than 2 years   \n",
       "\n",
       "                              spotify_listening_device  \\\n",
       "23   Smartphone, Computer or laptop, Smart speakers...   \n",
       "24                      Smartphone, Computer or laptop   \n",
       "26      Smartphone, Smart speakers or voice assistants   \n",
       "49   Smartphone, Computer or laptop, Smart speakers...   \n",
       "59                Computer or laptop, Wearable devices   \n",
       "..                                                 ...   \n",
       "506                 Smart speakers or voice assistants   \n",
       "508                                   Wearable devices   \n",
       "510                                         Smartphone   \n",
       "518                                         Smartphone   \n",
       "519                     Smartphone, Computer or laptop   \n",
       "\n",
       "       spotify_subscription_plan premium_sub_willingness  \\\n",
       "23   Premium (paid subscription)                     Yes   \n",
       "24   Premium (paid subscription)                     Yes   \n",
       "26   Premium (paid subscription)                     Yes   \n",
       "49   Premium (paid subscription)                     Yes   \n",
       "59   Premium (paid subscription)                     Yes   \n",
       "..                           ...                     ...   \n",
       "506  Premium (paid subscription)                     Yes   \n",
       "508  Premium (paid subscription)                     Yes   \n",
       "510  Premium (paid subscription)                     Yes   \n",
       "518  Premium (paid subscription)                     Yes   \n",
       "519  Premium (paid subscription)                     Yes   \n",
       "\n",
       "             preffered_premium_plan preferred_listening_content  \\\n",
       "23   Individual Plan- Rs 119/ month                       Music   \n",
       "24         Family Plan-Rs 179/month                       Music   \n",
       "26         Student Plan-Rs 59/month                     Podcast   \n",
       "49   Individual Plan- Rs 119/ month                       Music   \n",
       "59         Family Plan-Rs 179/month                       Music   \n",
       "..                              ...                         ...   \n",
       "506          Duo plan- Rs 149/month                       Music   \n",
       "508          Duo plan- Rs 149/month                     Podcast   \n",
       "510  Individual Plan- Rs 119/ month                       Music   \n",
       "518  Individual Plan- Rs 119/ month                       Music   \n",
       "519        Student Plan-Rs 59/month                       Music   \n",
       "\n",
       "      fav_music_genre music_time_slot  \\\n",
       "23          classical           Night   \n",
       "24               Rock           Night   \n",
       "26                Rap         Morning   \n",
       "49   Electronic/Dance           Night   \n",
       "59                Pop           Night   \n",
       "..                ...             ...   \n",
       "506         classical         Morning   \n",
       "508               Rap         Morning   \n",
       "510            Melody           Night   \n",
       "518            Melody           Night   \n",
       "519               Pop           Night   \n",
       "\n",
       "                                music_Influencial_mood  \\\n",
       "23   Relaxation and stress relief, Uplifting and mo...   \n",
       "24   Relaxation and stress relief, Sadness or melan...   \n",
       "26                        Relaxation and stress relief   \n",
       "49   Relaxation and stress relief, Uplifting and mo...   \n",
       "59   Relaxation and stress relief, Uplifting and mo...   \n",
       "..                                                 ...   \n",
       "506                         Uplifting and motivational   \n",
       "508                       Relaxation and stress relief   \n",
       "510  Relaxation and stress relief, Uplifting and mo...   \n",
       "518  Relaxation and stress relief, Uplifting and mo...   \n",
       "519  Relaxation and stress relief, Sadness or melan...   \n",
       "\n",
       "                                   music_lis_frequency  \\\n",
       "23      While Traveling, Workout session, leisure time   \n",
       "24                                         Study Hours   \n",
       "26      Office hours, While Traveling, Workout session   \n",
       "49      While Traveling, Workout session, leisure time   \n",
       "59      While Traveling, Workout session, leisure time   \n",
       "..                                                 ...   \n",
       "506                                    Workout session   \n",
       "508                                    While Traveling   \n",
       "510                                        Study Hours   \n",
       "518                      Workout session, leisure time   \n",
       "519  Office hours,Study Hours, While Traveling, lei...   \n",
       "\n",
       "                     music_expl_method  music_recc_rating  \\\n",
       "23   recommendations, Playlists, Radio                  1   \n",
       "24              recommendations, Radio                  3   \n",
       "26                     recommendations                  4   \n",
       "49                     recommendations                  4   \n",
       "59          recommendations, Playlists                  5   \n",
       "..                                 ...                ...   \n",
       "506                          Playlists                  4   \n",
       "508                          Playlists                  2   \n",
       "510         recommendations, Playlists                  5   \n",
       "518            recommendations, Others                  2   \n",
       "519                   Playlists, Radio                  3   \n",
       "\n",
       "        pod_lis_frequency         fav_pod_genre preffered_pod_format  \\\n",
       "23                 Rarely                Comedy            Interview   \n",
       "24                 Rarely  Lifestyle and Health       Conversational   \n",
       "26   Several times a week  Lifestyle and Health        Story telling   \n",
       "49                 Rarely                Comedy        Story telling   \n",
       "59                  Never                  None                 None   \n",
       "..                    ...                   ...                  ...   \n",
       "506                Rarely  Lifestyle and Health            Interview   \n",
       "508                Rarely                Sports                 None   \n",
       "510                Rarely                Comedy        Story telling   \n",
       "518  Several times a week                Comedy       Conversational   \n",
       "519                 Never                  None                 None   \n",
       "\n",
       "        pod_host_preference preffered_pod_duration pod_variety_satisfaction  \n",
       "23                     Both                Shorter           Very Satisfied  \n",
       "24                     Both                   Both                       Ok  \n",
       "26                     Both                 Longer                Satisfied  \n",
       "49       unknown Podcasters                Shorter           Very Satisfied  \n",
       "59                     None                   None                Satisfied  \n",
       "..                      ...                    ...                      ...  \n",
       "506      unknown Podcasters                   Both                Satisfied  \n",
       "508  Well known individuals                   Both                       Ok  \n",
       "510                    Both                 Longer                Satisfied  \n",
       "518                    Both                 Longer                Satisfied  \n",
       "519                    None                   None                       Ok  \n",
       "\n",
       "[72 rows x 20 columns]"
      ]
     },
     "execution_count": 125,
     "metadata": {},
     "output_type": "execute_result"
    }
   ],
   "source": [
    "filtered_data = df[(df['spotify_subscription_plan'] == 'Premium (paid subscription)') & (df['premium_sub_willingness'] == 'Yes')]\n",
    "filtered_data"
   ]
  },
  {
   "cell_type": "code",
   "execution_count": 240,
   "id": "454ede6c",
   "metadata": {},
   "outputs": [
    {
     "data": {
      "text/plain": [
       "Relaxation and stress relief                                                                                     194\n",
       "Uplifting and motivational                                                                                        67\n",
       "Sadness or melancholy                                                                                             55\n",
       "Relaxation and stress relief, Uplifting and motivational                                                          44\n",
       "Relaxation and stress relief, Uplifting and motivational, Sadness or melancholy, Social gatherings or parties     35\n",
       "Name: music_Influencial_mood, dtype: int64"
      ]
     },
     "execution_count": 240,
     "metadata": {},
     "output_type": "execute_result"
    }
   ],
   "source": [
    "df['music_Influencial_mood'].value_counts().head(5)\n",
    "# Most people listen to music for relaxation and relieving stress"
   ]
  },
  {
   "cell_type": "code",
   "execution_count": 204,
   "id": "ca330a6f",
   "metadata": {},
   "outputs": [
    {
     "data": {
      "text/plain": [
       "Smartphone                                                299\n",
       "Computer or laptop                                         54\n",
       "Smartphone, Computer or laptop                             48\n",
       "Smart speakers or voice assistants                         43\n",
       "Computer or laptop, Smart speakers or voice assistants     14\n",
       "Name: spotify_listening_device, dtype: int64"
      ]
     },
     "execution_count": 204,
     "metadata": {},
     "output_type": "execute_result"
    }
   ],
   "source": [
    "df['spotify_listening_device'].value_counts().head(5)\n",
    "# Smartphones are most used device for using Spotify."
   ]
  },
  {
   "cell_type": "code",
   "execution_count": 130,
   "id": "e8db8521",
   "metadata": {},
   "outputs": [
    {
     "data": {
      "text/plain": [
       "Melody              258\n",
       "classical            87\n",
       "Pop                  85\n",
       "Rap                  55\n",
       "Electronic/Dance     16\n",
       "Name: fav_music_genre, dtype: int64"
      ]
     },
     "execution_count": 130,
     "metadata": {},
     "output_type": "execute_result"
    }
   ],
   "source": [
    "top_genres=df['fav_music_genre'].value_counts().head(5)\n",
    "top_genres\n",
    "# Users who listen to Melody genre are more in count"
   ]
  },
  {
   "cell_type": "code",
   "execution_count": 133,
   "id": "fca7a5c0",
   "metadata": {},
   "outputs": [
    {
     "data": {
      "image/png": "[encoded data removed]",
      "text/plain": [
       "<Figure size 640x480 with 1 Axes>"
      ]
     },
     "metadata": {},
     "output_type": "display_data"
    }
   ],
   "source": [
    "top_genres.plot(kind='barh', color='skyblue')\n",
    "plt.xlabel('Count')\n",
    "plt.ylabel('Genre')\n",
    "plt.title('Most Popular Music Genres on Spotify');"
   ]
  },
  {
   "cell_type": "code",
   "execution_count": 206,
   "id": "20dfa7cc",
   "metadata": {},
   "outputs": [
    {
     "data": {
      "text/plain": [
       "Music      409\n",
       "Podcast    110\n",
       "Name: preferred_listening_content, dtype: int64"
      ]
     },
     "execution_count": 206,
     "metadata": {},
     "output_type": "execute_result"
    }
   ],
   "source": [
    "df['preferred_listening_content'].value_counts()"
   ]
  },
  {
   "cell_type": "code",
   "execution_count": 147,
   "id": "267317e2",
   "metadata": {},
   "outputs": [
    {
     "data": {
      "text/plain": [
       "spotify_usage_period\n",
       "More than 2 years       169\n",
       "1 year to 2 years       140\n",
       "6 months to 1 year      119\n",
       "Less than 6 months       91\n",
       "dtype: int64"
      ]
     },
     "execution_count": 147,
     "metadata": {},
     "output_type": "execute_result"
    }
   ],
   "source": [
    "counting=df[['spotify_usage_period']].value_counts()\n",
    "counting"
   ]
  },
  {
   "cell_type": "code",
   "execution_count": 197,
   "id": "87a67493",
   "metadata": {},
   "outputs": [
    {
     "data": {
      "image/png": "[encoded data removed]",
      "text/plain": [
       "<Figure size 640x480 with 1 Axes>"
      ]
     },
     "metadata": {},
     "output_type": "display_data"
    }
   ],
   "source": [
    "counting.plot(kind='bar', color='turquoise',title='Period of Spotify Usage');\n",
    "# most users are using spotify for more than 2 years"
   ]
  },
  {
   "cell_type": "code",
   "execution_count": 156,
   "id": "87b5d603",
   "metadata": {},
   "outputs": [
    {
     "data": {
      "image/png": "[encoded data removed]",
      "text/plain": [
       "<Figure size 640x480 with 1 Axes>"
      ]
     },
     "metadata": {},
     "output_type": "display_data"
    }
   ],
   "source": [
    "gender_count = df['Gender'].value_counts()\n",
    "plt.pie(gender_count,autopct='%1.1f%%')\n",
    "plt.title('Distribution of Spotify Users')\n",
    "plt.legend(gender_count.index, loc='best');\n",
    "# Females are using Spotify more than male."
   ]
  },
  {
   "cell_type": "code",
   "execution_count": 161,
   "id": "52c0392b",
   "metadata": {},
   "outputs": [
    {
     "data": {
      "text/plain": [
       "<Axes: xlabel='Age', ylabel='count'>"
      ]
     },
     "execution_count": 161,
     "metadata": {},
     "output_type": "execute_result"
    },
    {
     "data": {
      "image/png": "[encoded data removed]",
      "text/plain": [
       "<Figure size 640x480 with 1 Axes>"
      ]
     },
     "metadata": {},
     "output_type": "display_data"
    }
   ],
   "source": [
    "sb.countplot(x='Age',data=df,hue='Gender')\n",
    "# Even in each age group females are more in using the app"
   ]
  },
  {
   "cell_type": "code",
   "execution_count": 200,
   "id": "d8974be3",
   "metadata": {},
   "outputs": [
    {
     "data": {
      "text/plain": [
       "3    190\n",
       "4    173\n",
       "5     86\n",
       "2     56\n",
       "1     14\n",
       "Name: music_recc_rating, dtype: int64"
      ]
     },
     "execution_count": 200,
     "metadata": {},
     "output_type": "execute_result"
    }
   ],
   "source": [
    "m=df['music_recc_rating'].value_counts()\n",
    "m"
   ]
  },
  {
   "cell_type": "code",
   "execution_count": 203,
   "id": "87a44aeb",
   "metadata": {},
   "outputs": [
    {
     "data": {
      "image/png": "[encoded data removed]",
      "text/plain": [
       "<Figure size 640x480 with 1 Axes>"
      ]
     },
     "metadata": {},
     "output_type": "display_data"
    }
   ],
   "source": [
    "plt.pie(m,labels=m.index,autopct='%1.1f%%');\n",
    "# 3 is the most rating given to "
   ]
  },
  {
   "cell_type": "code",
   "execution_count": 177,
   "id": "6c3ce4c0",
   "metadata": {},
   "outputs": [
    {
     "data": {
      "text/plain": [
       "Story telling     152\n",
       "None              139\n",
       "Conversational    105\n",
       "Interview          74\n",
       "Educational        49\n",
       "Name: preffered_pod_format, dtype: int64"
      ]
     },
     "execution_count": 177,
     "metadata": {},
     "output_type": "execute_result"
    }
   ],
   "source": [
    "x=df['preffered_pod_format'].value_counts()\n",
    "x"
   ]
  },
  {
   "cell_type": "code",
   "execution_count": 227,
   "id": "40606d43",
   "metadata": {},
   "outputs": [
    {
     "data": {
      "image/png": "[encoded data removed]",
      "text/plain": [
       "<Figure size 640x480 with 1 Axes>"
      ]
     },
     "metadata": {},
     "output_type": "display_data"
    }
   ],
   "source": [
    "x.plot(kind='bar', color='indigo');\n",
    "# most users prefer story telling kind of format of podcasts."
   ]
  },
  {
   "cell_type": "code",
   "execution_count": 218,
   "id": "e04bb4ce",
   "metadata": {},
   "outputs": [
    {
     "data": {
      "text/plain": [
       "Both                      180\n",
       "None                      140\n",
       "Well known individuals    114\n",
       "unknown Podcasters         85\n",
       "Name: pod_host_preference, dtype: int64"
      ]
     },
     "execution_count": 218,
     "metadata": {},
     "output_type": "execute_result"
    }
   ],
   "source": [
    "a=df['pod_host_preference'].value_counts()\n",
    "a"
   ]
  },
  {
   "cell_type": "code",
   "execution_count": 220,
   "id": "72c86c28",
   "metadata": {},
   "outputs": [
    {
     "data": {
      "image/png": "[encoded data removed]",
      "text/plain": [
       "<Figure size 640x480 with 1 Axes>"
      ]
     },
     "metadata": {},
     "output_type": "display_data"
    }
   ],
   "source": [
    "a.plot(kind='barh', color='yellow');\n",
    "# Most users prefer both well-known individuals and unknown individuals as podcast hosts."
   ]
  },
  {
   "cell_type": "code",
   "execution_count": 183,
   "id": "5417fc82",
   "metadata": {},
   "outputs": [
    {
     "data": {
      "text/plain": [
       "Shorter    191\n",
       "None       128\n",
       "Both       117\n",
       "Longer      83\n",
       "Name: preffered_pod_duration, dtype: int64"
      ]
     },
     "execution_count": 183,
     "metadata": {},
     "output_type": "execute_result"
    }
   ],
   "source": [
    "y=df['preffered_pod_duration'].value_counts()\n",
    "y"
   ]
  },
  {
   "cell_type": "code",
   "execution_count": 223,
   "id": "e3af4d85",
   "metadata": {},
   "outputs": [
    {
     "data": {
      "image/png": "[encoded data removed]",
      "text/plain": [
       "<Figure size 640x480 with 1 Axes>"
      ]
     },
     "metadata": {},
     "output_type": "display_data"
    }
   ],
   "source": [
    "y.plot(kind='bar', color='green');\n",
    "# shorter duration of posdcast is preferred"
   ]
  },
  {
   "cell_type": "code",
   "execution_count": 192,
   "id": "ff9c6c12",
   "metadata": {},
   "outputs": [
    {
     "data": {
      "text/plain": [
       "Ok                   279\n",
       "Satisfied            162\n",
       "Very Satisfied        48\n",
       "Dissatisfied          20\n",
       "Very Dissatisfied     10\n",
       "Name: pod_variety_satisfaction, dtype: int64"
      ]
     },
     "execution_count": 192,
     "metadata": {},
     "output_type": "execute_result"
    }
   ],
   "source": [
    "z=df['pod_variety_satisfaction'].value_counts()\n",
    "z"
   ]
  },
  {
   "cell_type": "code",
   "execution_count": 225,
   "id": "f8118279",
   "metadata": {},
   "outputs": [
    {
     "data": {
      "image/png": "[encoded data removed]",
      "text/plain": [
       "<Figure size 640x480 with 1 Axes>"
      ]
     },
     "metadata": {},
     "output_type": "display_data"
    }
   ],
   "source": [
    "plt.pie(z,labels=z.index,autopct='%1.1f%%');"
   ]
  },
  {
   "cell_type": "code",
   "execution_count": 239,
   "id": "19b5ed5f",
   "metadata": {},
   "outputs": [
    {
     "data": {
      "text/plain": [
       "While Traveling                                   111\n",
       "leisure time                                       87\n",
       "While Traveling, leisure time                      64\n",
       "While Traveling, Workout session, leisure time     48\n",
       "Workout session                                    33\n",
       "Name: music_lis_frequency, dtype: int64"
      ]
     },
     "execution_count": 239,
     "metadata": {},
     "output_type": "execute_result"
    }
   ],
   "source": [
    "df['music_lis_frequency'].value_counts().head(5)\n",
    "\n",
    "# While traveling is the most frequent occasion for music listening."
   ]
  },
  {
   "cell_type": "code",
   "execution_count": 169,
   "id": "ad6d478c",
   "metadata": {},
   "outputs": [],
   "source": [
    "df.to_csv(r'C:\\Users\\reach\\Downloads\\Preplacement.csv')"
   ]
  },
  {
   "cell_type": "code",
   "execution_count": null,
   "id": "c226bd97",
   "metadata": {},
   "outputs": [],
   "source": [
    "# Final Conclusion\n",
    "\n",
    "# Maximum number of the users are in the age group of 20-35 and are mostly females.\n",
    "# Most of the females are using 'free plan' in comparison to 'Male' and 'Others'.\n",
    "# Most Users prefer to listen to music over podcasts.\n",
    "# While traveling is the most frequent occasion for music listening.\n",
    "# Most Users don't prefer a plan.\n",
    "# Melody Music genre is the most preferred music.\n",
    "# Most people listen to music for relaxation and relieving stress their mood\n",
    "# Most of the people listen music/podcast at night.\n",
    "# Most of the people rate spotify recommendations as '3 out of 5'.\n",
    "# Podcast listening frequency varies, with the most common frequency being \"rarely\".\n",
    "# Many users did not give their fav genre of podcast\n",
    "# Maximum number of people like shorter podcasts and rate 'ok' for the variety and availability of podcasts. "
   ]
  }
 ],
 "metadata": {
  "kernelspec": {
   "display_name": "Python 3 (ipykernel)",
   "language": "python",
   "name": "python3"
  },
  "language_info": {
   "codemirror_mode": {
    "name": "ipython",
    "version": 3
   },
   "file_extension": ".py",
   "mimetype": "text/x-python",
   "name": "python",
   "nbconvert_exporter": "python",
   "pygments_lexer": "ipython3",
   "version": "3.10.9"
  }
 },
 "nbformat": 4,
 "nbformat_minor": 5
}
